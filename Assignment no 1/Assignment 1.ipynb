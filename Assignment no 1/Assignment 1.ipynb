{
 "cells": [
  {
   "cell_type": "code",
   "execution_count": 3,
   "id": "f28246db",
   "metadata": {},
   "outputs": [],
   "source": [
    "#Answer Number 1"
   ]
  },
  {
   "cell_type": "code",
   "execution_count": 10,
   "id": "f6e35e69",
   "metadata": {},
   "outputs": [
    {
     "name": "stdout",
     "output_type": "stream",
     "text": [
      "Twinkle, twinkle, little stars\n",
      "  how I wonder what you are\n",
      "      Up above the world so high\n",
      "      Like a diamond in the sky\n",
      "Twinkle, twinkle, little star\n",
      "   how I wonder what you are\n"
     ]
    }
   ],
   "source": [
    "print  (\"Twinkle, twinkle, little stars\")\n",
    "print      (\"  how I wonder what you are\")\n",
    "print      (\"      Up above the world so high\")\n",
    "print      (\"      Like a diamond in the sky\")\n",
    "print  (\"Twinkle, twinkle, little star\")\n",
    "print      ( \"   how I wonder what you are\")\n",
    "        "
   ]
  },
  {
   "cell_type": "code",
   "execution_count": 11,
   "id": "1fe0ab09",
   "metadata": {},
   "outputs": [],
   "source": [
    "#Answer Number 2"
   ]
  },
  {
   "cell_type": "code",
   "execution_count": 15,
   "id": "53b5265c",
   "metadata": {},
   "outputs": [
    {
     "name": "stdout",
     "output_type": "stream",
     "text": [
      "python version\n",
      "3.9.7 (default, Sep 16 2021, 16:59:28) [MSC v.1916 64 bit (AMD64)]\n"
     ]
    }
   ],
   "source": [
    "import sys\n",
    "print (\"python version\")\n",
    "print (sys.version)"
   ]
  },
  {
   "cell_type": "code",
   "execution_count": 16,
   "id": "857fd013",
   "metadata": {},
   "outputs": [],
   "source": [
    "#Answer Number 3"
   ]
  },
  {
   "cell_type": "code",
   "execution_count": 20,
   "id": "45f5aeb8",
   "metadata": {},
   "outputs": [
    {
     "name": "stdout",
     "output_type": "stream",
     "text": [
      "current date and time: \n",
      "2022-01-01   21:35:36\n"
     ]
    }
   ],
   "source": [
    "import datetime\n",
    "now = datetime.datetime.now()\n",
    "print (\"current date and time: \")\n",
    "print (now.strftime(\"%Y-%m-%d   %H:%M:%S\"))"
   ]
  },
  {
   "cell_type": "code",
   "execution_count": 22,
   "id": "7df1ba5c",
   "metadata": {},
   "outputs": [
    {
     "name": "stdout",
     "output_type": "stream",
     "text": [
      "input the radius of the circle: 4\n",
      "The radius of the circle with radius 4.0 is :50.26548245743669\n"
     ]
    }
   ],
   "source": [
    "#Answer Number 4\n",
    "from math import pi\n",
    "r = float(input(\"input the radius of the circle: \"))\n",
    "print (\"The radius of the circle with radius \" +str(r)+ \" is :\" +str(pi*r**2))"
   ]
  },
  {
   "cell_type": "code",
   "execution_count": 1,
   "id": "036b630a",
   "metadata": {},
   "outputs": [
    {
     "name": "stdout",
     "output_type": "stream",
     "text": [
      "First Name: Ismail\n",
      "Last name: Ahmed\n",
      "Hello Ahmed Ismail\n"
     ]
    }
   ],
   "source": [
    "#Answer Number 5\n",
    "fname = input(\"First Name: \")\n",
    "lname = input(\"Last name: \")\n",
    "print (\"Hello \"+ lname +\" \"+ fname)"
   ]
  },
  {
   "cell_type": "code",
   "execution_count": 3,
   "id": "3188d608",
   "metadata": {},
   "outputs": [
    {
     "name": "stdout",
     "output_type": "stream",
     "text": [
      "14\n"
     ]
    }
   ],
   "source": [
    "#Answer Number 6\n",
    "a= 5;\n",
    "b= 9;\n",
    "c=a+b;\n",
    "print(c);"
   ]
  },
  {
   "cell_type": "code",
   "execution_count": null,
   "id": "c714b1d6",
   "metadata": {},
   "outputs": [],
   "source": []
  }
 ],
 "metadata": {
  "kernelspec": {
   "display_name": "Python 3 (ipykernel)",
   "language": "python",
   "name": "python3"
  },
  "language_info": {
   "codemirror_mode": {
    "name": "ipython",
    "version": 3
   },
   "file_extension": ".py",
   "mimetype": "text/x-python",
   "name": "python",
   "nbconvert_exporter": "python",
   "pygments_lexer": "ipython3",
   "version": "3.9.7"
  }
 },
 "nbformat": 4,
 "nbformat_minor": 5
}
